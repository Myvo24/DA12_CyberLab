{
 "cells": [
  {
   "cell_type": "markdown",
   "id": "552b8aae",
   "metadata": {},
   "source": [
    "# Bài tập tuần 05\n",
    "Thực hiện các yêu cầu sau với dữ liệu ‘vn_housing_dataset.csv’:\n",
    "1. Lấy ra thông tin từ các cột Diện tích, Chiều dài, chiều rộng, Giá nhà\n",
    "2. Kiểm tra các thông tin bất thường\n",
    "⇒ Loại bỏ nếu thấy bất hợp lý\n",
    "3. Chuẩn hóa thông tin (ví dụ: giá nhà với đơn vị “tỷ” thì đổi hết sang đơn vị\n",
    "“triệu”, nếu có)\n",
    "4. Lấy thêm thông tin từ cột Ngày tháng, format lại thành “Ngày_Tháng_Năm”\n",
    "5. Lưu lại dữ liệu đã làm sạch, chuẩn hóa, loại bỏ bất thường… vào file csv\n",
    "khác."
   ]
  },
  {
   "cell_type": "code",
   "execution_count": 122,
   "id": "f3d5323b",
   "metadata": {},
   "outputs": [
    {
     "name": "stdout",
     "output_type": "stream",
     "text": [
      "Original Data: \n",
      "       Diện tích      Dài Rộng           Giá/m2\n",
      "0         46 m²      NaN  NaN   86,96 triệu/m²\n",
      "1         37 m²      NaN  NaN  116,22 triệu/m²\n",
      "2         40 m²     10 m  4 m      65 triệu/m²\n",
      "3         51 m²  12.75 m  4 m     100 triệu/m²\n",
      "4         36 m²      9 m  4 m   86,11 triệu/m²\n",
      "...         ...      ...  ...              ...\n",
      "82491     38 m²      NaN  NaN   81,58 triệu/m²\n",
      "82492     50 m²      NaN  NaN     292 triệu/m²\n",
      "82493     41 m²      NaN  NaN  341,46 triệu/m²\n",
      "82494     60 m²      NaN  NaN  101,67 triệu/m²\n",
      "82495     45 m²      NaN  NaN  102,22 triệu/m²\n",
      "\n",
      "[82496 rows x 4 columns]\n"
     ]
    }
   ],
   "source": [
    "# Bai 1 dung pandas\n",
    "# Lấy ra thông tin từ các cột Diện tích, Chiều dài, chiều rộng, Giá nhà\n",
    "import pandas as pd\n",
    "import numpy as np\n",
    "\n",
    "file_path = '/Users/myvo/Downloads/Cybersoft_DA12/DA12_DataSet_Cybersoft/data/vn_housing_dataset/VN_housing_dataset.csv'\n",
    "\n",
    "data = pd.read_csv(file_path)\n",
    "house_info = data[['Diện tích', 'Dài', 'Rộng', 'Giá/m2']]\n",
    "\n",
    "print(\"Original Data: \\n\",house_info)"
   ]
  },
  {
   "cell_type": "code",
   "execution_count": 138,
   "id": "22925a3a",
   "metadata": {},
   "outputs": [
    {
     "name": "stdout",
     "output_type": "stream",
     "text": [
      "NaN Data: \n",
      "        Diện tích    Dài   Rộng  Giá/m2\n",
      "2          False  False  False   False\n",
      "3          False  False  False   False\n",
      "4          False  False  False   False\n",
      "5          False  False  False   False\n",
      "8          False  False  False   False\n",
      "...          ...    ...    ...     ...\n",
      "82355      False  False  False   False\n",
      "82356      False  False  False   False\n",
      "82359      False  False  False   False\n",
      "82361      False  False  False   False\n",
      "82362      False  False  False   False\n",
      "\n",
      "[19701 rows x 4 columns]\n",
      "Drop NaN: \n",
      "       Diện tích      Dài   Rộng           Giá/m2\n",
      "2         40 m²     10 m    4 m      65 triệu/m²\n",
      "3         51 m²  12.75 m    4 m     100 triệu/m²\n",
      "4         36 m²      9 m    4 m   86,11 triệu/m²\n",
      "5         46 m²   12.1 m  3.8 m  104,35 triệu/m²\n",
      "8         75 m²     12 m  6.5 m     120 triệu/m²\n",
      "...         ...      ...    ...              ...\n",
      "82355     37 m²     13 m    3 m   43,24 triệu/m²\n",
      "82356    100 m²     16 m    6 m     115 triệu/m²\n",
      "82359     80 m²     14 m    5 m   262,5 triệu/m²\n",
      "82361     89 m²     20 m    4 m  258,43 triệu/m²\n",
      "82362     90 m²     20 m    4 m   64,44 triệu/m²\n",
      "\n",
      "[19701 rows x 4 columns]\n"
     ]
    },
    {
     "data": {
      "text/plain": [
       "Diện tích    False\n",
       "Dài          False\n",
       "Rộng         False\n",
       "Giá/m2       False\n",
       "dtype: bool"
      ]
     },
     "execution_count": 138,
     "metadata": {},
     "output_type": "execute_result"
    }
   ],
   "source": [
    "# Bai 2 | Kiểm tra các thông tin bất thường ⇒ Loại bỏ nếu thấy bất hợp lý\n",
    "\n",
    "#  Kiểm tra các thông tin bất thường\n",
    "nan_data = house_info.isna()\n",
    "print(\"NaN Data: \\n\",nan_data) # Return True if NaN\n",
    "\n",
    "# ⇒ Loại bỏ nếu thấy bất hợp lý\n",
    "drop_nan = house_info.dropna(axis = 0, how = \"any\") \n",
    "print(\"Drop NaN: \\n\",drop_nan)\n",
    "\n",
    "# # Kiem tra \n",
    "drop_nan.isna().any()"
   ]
  },
  {
   "cell_type": "code",
   "execution_count": 156,
   "id": "b79813f8",
   "metadata": {},
   "outputs": [
    {
     "name": "stdout",
     "output_type": "stream",
     "text": [
      "1,2 triệu/m²\n",
      "1,111111111 triệu/m²\n",
      "1,8 triệu/m²\n",
      "2,28 triệu/m²\n",
      "1,166666666 triệu/m²\n",
      "2,65 triệu/m²\n",
      "1,594405594 triệu/m²\n",
      "1,597222222 triệu/m²\n",
      "11,5 triệu/m²\n",
      "6,5 triệu/m²\n",
      "1 triệu/m²\n",
      "7,894736842 triệu/m²\n",
      "1,114285714 triệu/m²\n",
      "6,833333333 triệu/m²\n",
      "1,14 triệu/m²\n",
      "1,79245283 triệu/m²\n",
      "1,083333333 triệu/m²\n",
      "1,063829787 triệu/m²\n",
      "1,55 triệu/m²\n",
      "1,09375 triệu/m²\n",
      "66,666666666 triệu/m²\n",
      "1,09375 triệu/m²\n",
      "1,033333333 triệu/m²\n",
      "2.222,22220022 triệu/m²\n",
      "1,076923076 triệu/m²\n",
      "728.000,00728 triệu/m²\n",
      "1 triệu/m²\n",
      "1,125 triệu/m²\n",
      "1,083333333 triệu/m²\n",
      "9,833333333 triệu/m²\n",
      "5,375 triệu/m²\n",
      "1,925 triệu/m²\n",
      "1,625 triệu/m²\n",
      "1,4 triệu/m²\n",
      "10 triệu/m²\n",
      "1,706666666 triệu/m²\n",
      "2,538461538 triệu/m²\n",
      "Giá sau khi đổi: \n",
      " 2            65 triệu/m²\n",
      "3           100 triệu/m²\n",
      "4         86,11 triệu/m²\n",
      "5        104,35 triệu/m²\n",
      "8           120 triệu/m²\n",
      "              ...       \n",
      "82355     43,24 triệu/m²\n",
      "82356       115 triệu/m²\n",
      "82359     262,5 triệu/m²\n",
      "82361    258,43 triệu/m²\n",
      "82362     64,44 triệu/m²\n",
      "Name: Giá/m2, Length: 19701, dtype: object\n"
     ]
    }
   ],
   "source": [
    "# Bai 3 | Chuẩn hóa thông tin (ví dụ: giá nhà với đơn vị “tỷ” thì đổi hết sang đơn vị “triệu”, nếu có)\n",
    "# Đọc dữ liệu từ cột Gía\n",
    "gia_nha = drop_nan['Giá/m2']\n",
    "\n",
    "# Dùng vòng lặp tìm ty/m2 trong cột Giá\n",
    "for value in gia_nha:\n",
    "    if 'tỷ' in str(value):\n",
    "        # Replace từ tỷ sang triệu\n",
    "        ty_to_trieu = value.replace('tỷ', 'triệu')\n",
    "        print(ty_to_trieu)\n",
    "\n",
    "gia_moi = drop_nan['Giá/m2'].str.replace('tỷ', 'triệu')\n",
    "print(\"Giá sau khi đổi: \\n\", gia_moi)\n"
   ]
  },
  {
   "cell_type": "code",
   "execution_count": 119,
   "id": "fe5dab69",
   "metadata": {},
   "outputs": [
    {
     "name": "stdout",
     "output_type": "stream",
     "text": [
      "Ngày trước khi đổi: \n",
      "              Ngày\n",
      "0      2020-08-05\n",
      "1      2020-08-05\n",
      "2      2020-08-05\n",
      "3      2020-08-05\n",
      "4      2020-08-05\n",
      "...           ...\n",
      "82491  2019-08-23\n",
      "82492  2019-08-07\n",
      "82493  2019-08-07\n",
      "82494  2019-08-05\n",
      "82495  2019-08-05\n",
      "\n",
      "[82496 rows x 1 columns]\n",
      "Ngày sau khi đổi: \n",
      " 0        2020_08_05\n",
      "1        2020_08_05\n",
      "2        2020_08_05\n",
      "3        2020_08_05\n",
      "4        2020_08_05\n",
      "            ...    \n",
      "82491    2019_08_23\n",
      "82492    2019_08_07\n",
      "82493    2019_08_07\n",
      "82494    2019_08_05\n",
      "82495    2019_08_05\n",
      "Name: Ngày, Length: 82496, dtype: object\n"
     ]
    }
   ],
   "source": [
    "# Bài 4| Lấy thêm thông tin từ cột Ngày tháng, format lại thành “Ngày_Tháng_Năm”\n",
    "date = data[['Ngày']]\n",
    "print(\"Ngày trước khi đổi: \\n\", date)\n",
    "dateNew = data['Ngày'].str.replace('-','_')\n",
    "print(\"Ngày sau khi đổi: \\n\", dateNew)"
   ]
  },
  {
   "cell_type": "code",
   "execution_count": 175,
   "id": "44bab4fc",
   "metadata": {},
   "outputs": [
    {
     "name": "stdout",
     "output_type": "stream",
     "text": [
      "      Diện tích      Dài   Rộng           Giá/m2        Ngày\n",
      "0         40 m²     10 m    4 m      65 triệu/m²  2020_08_05\n",
      "1         51 m²  12.75 m    4 m     100 triệu/m²  2020_08_05\n",
      "2         36 m²      9 m    4 m   86,11 triệu/m²  2020_08_05\n",
      "3         46 m²   12.1 m  3.8 m  104,35 triệu/m²  2020_08_05\n",
      "4         75 m²     12 m  6.5 m     120 triệu/m²  2020_08_05\n",
      "...         ...      ...    ...              ...         ...\n",
      "19696     37 m²     13 m    3 m   43,24 triệu/m²  2020_04_17\n",
      "19697    100 m²     16 m    6 m     115 triệu/m²  2020_04_17\n",
      "19698     80 m²     14 m    5 m   262,5 triệu/m²  2020_04_17\n",
      "19699     89 m²     20 m    4 m  258,43 triệu/m²  2020_04_15\n",
      "19700     90 m²     20 m    4 m   64,44 triệu/m²  2020_04_15\n",
      "\n",
      "[19701 rows x 5 columns]\n"
     ]
    }
   ],
   "source": [
    "# Bài 5 | Lưu lại dữ liệu đã làm sạch, chuẩn hóa, loại bỏ bất thường… vào file csv khác.\n",
    "# Lưu lại các dữ liệu đã làm sạch trước đó\n",
    "sum = pd.concat((drop_nan.drop('Giá/m2', axis = 1), gia_moi, dateNew), axis = 1)\n",
    "# Loại bỏ NaN \n",
    "sum = sum.dropna(axis = 0, how = \"any\").reset_index(drop = True)\n",
    "print(sum)\n",
    "sum.to_csv('housing_clean.csv', encoding='UTF8')"
   ]
  }
 ],
 "metadata": {
  "kernelspec": {
   "display_name": "Python 3 (ipykernel)",
   "language": "python",
   "name": "python3"
  },
  "language_info": {
   "codemirror_mode": {
    "name": "ipython",
    "version": 3
   },
   "file_extension": ".py",
   "mimetype": "text/x-python",
   "name": "python",
   "nbconvert_exporter": "python",
   "pygments_lexer": "ipython3",
   "version": "3.11.5"
  }
 },
 "nbformat": 4,
 "nbformat_minor": 5
}
