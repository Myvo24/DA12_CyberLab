{
 "cells": [
  {
   "cell_type": "code",
   "execution_count": 4,
   "id": "ff3fd212",
   "metadata": {},
   "outputs": [
    {
     "name": "stdout",
     "output_type": "stream",
     "text": [
      "Họ: Võ\n",
      "Tên Đệm: Thị\n",
      "Tên Gọi: My\n",
      "Danh Xưng (Mr. hoặc Ms.): ms\n",
      "Danh Xưng (Mr. hoặc Ms.): Ms.\n",
      "Xin chào Ms. Võ\n",
      "Danh Xưng (Mr. hoặc Ms.): Ms.\n",
      "Xin chào Ms. Võ\n",
      "Tên in trên vé của bạn là Võ Thị My\n",
      "Số ghế của bạn là 100\n",
      "Năm sinh (bằng số vd: 2000): 2004\n",
      "Bạn năm nay 19 tuổi\n"
     ]
    }
   ],
   "source": [
    "# Biến global\n",
    "So_Ghe_Hanh_Khach = 99\n",
    "\n",
    "def Thong_Tin_Khach_Hang():\n",
    "\n",
    "  họ = input(\"Họ: \")\n",
    "  tên_đệm = input(\"Tên Đệm: \")\n",
    "  tên_gọi = input(\"Tên Gọi: \")\n",
    "\n",
    "  while True:\n",
    "    danh_xưng = input(\"Danh Xưng (Mr. hoặc Ms.): \")\n",
    "    ## Check typo in Danh Xưng's input\n",
    "    if danh_xưng == \"Mr.\" or danh_xưng == \"Ms.\" :\n",
    "        break\n",
    "    else:\n",
    "        danh_xưng = input(\"Danh Xưng (Mr. hoặc Ms.): \")\n",
    "  ## In ra lời chào với danh xưng và họ:\n",
    "  print(\"Xin chào\",danh_xưng,họ)\n",
    "\n",
    "  global So_Ghe_Hanh_Khach\n",
    "  So_Ghe_Hanh_Khach += 1  \n",
    "\n",
    "  ## In ra câu thông báo:\n",
    "  print(\"Tên in trên vé của bạn là\",họ,tên_đệm,tên_gọi)\n",
    "\n",
    "  print(\"Số ghế của bạn là\",So_Ghe_Hanh_Khach)\n",
    "  \n",
    "  while True:\n",
    "      năm_sinh = input(\"Năm sinh (bằng số vd: 2000): \")\n",
    "      if năm_sinh.isdigit():\n",
    "        tuổi = 2023 - int(năm_sinh)\n",
    "        print(f\"Bạn năm nay {tuổi} tuổi\")\n",
    "        break\n",
    "      else:\n",
    "        năm_sinh = int(input(\"Năm sinh (bằng số vd: 2000): \"))\n",
    "  \n",
    "\n",
    "Thong_Tin_Khach_Hang()"
   ]
  },
  {
   "cell_type": "code",
   "execution_count": null,
   "id": "475cfe91",
   "metadata": {},
   "outputs": [],
   "source": []
  }
 ],
 "metadata": {
  "kernelspec": {
   "display_name": "Python 3 (ipykernel)",
   "language": "python",
   "name": "python3"
  },
  "language_info": {
   "codemirror_mode": {
    "name": "ipython",
    "version": 3
   },
   "file_extension": ".py",
   "mimetype": "text/x-python",
   "name": "python",
   "nbconvert_exporter": "python",
   "pygments_lexer": "ipython3",
   "version": "3.11.5"
  }
 },
 "nbformat": 4,
 "nbformat_minor": 5
}
