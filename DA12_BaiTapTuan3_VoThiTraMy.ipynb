{
 "cells": [
  {
   "cell_type": "code",
   "execution_count": 39,
   "id": "2a4bf4bb",
   "metadata": {},
   "outputs": [
    {
     "name": "stdout",
     "output_type": "stream",
     "text": [
      "Phần tử ở vị trí chẵn: [0, 4, 8, 12, 16, 20]\n",
      "Phần tử ở vị trí lẻ: [3, 7, 11, 15, 19]\n"
     ]
    }
   ],
   "source": [
    "# BAI TAP 1\n",
    "## Bai Tap 1.1\n",
    "chuoi = [0, 2, 4, 6, 8, 10, 12, 14, 16, 18, 20]\n",
    "\n",
    "### lấy các phần tử ở vị trí chan\n",
    "vi_tri_chan = chuoi[0::2]\n",
    "print(\"Phần tử ở vị trí chẵn:\", vi_tri_chan)\n",
    "\n",
    "## Bai Tap 1.2\n",
    "chuoi = [1, 3, 5, 7, 9, 11, 13, 15, 17, 19]\n",
    "\n",
    "### lấy các phần tử ở vị trí lẻ\n",
    "vi_tri_le = chuoi[1::2]\n",
    "print(\"Phần tử ở vị trí lẻ:\", vi_tri_le)\n",
    "\n",
    "# BAI TAP 2\n",
    "with open(\"results.txt\", mode = \"w\", encoding = \"utf-8\") as file:\n",
    "    file.write(\"Bai Tap 1.1\\n\")\n",
    "    file.write(\"Phần tử ở vị trí chẵn: \" + ', '.join(map(str, vi_tri_chan)) + \"\\n\\n\")\n",
    "\n",
    "    file.write(\"Bai Tap 1.2\\n\")\n",
    "    file.write(\"Phần tử ở vị trí lẻ: \" + ', '.join(map(str, vi_tri_le)) + \"\\n\")"
   ]
  },
  {
   "cell_type": "code",
   "execution_count": 38,
   "id": "84eacb75",
   "metadata": {},
   "outputs": [
    {
     "name": "stdout",
     "output_type": "stream",
     "text": [
      "['0', '750-67-8428', 'H√† N·ªôi', 'Member', 'N·ªØ', 'Health and beauty', '74.69', '7', '26.1415', '522.83', '548.97', '1/5/19', '13:08', 'Ewallet', '6']\n",
      "Tần số khách hàng mua ở Tp HCM, Hà Nội, Đà Nẵng: 517\n",
      "Tần suất khách hàng mua ở Tp HCM, Hà Nội, Đà Nẵng: 57\n",
      "Tần số khách hàng Nam/Nữ: 463\n",
      "Tần suất khách hàng Nam/Nữ: 115\n",
      "Mean của Tổng đơn: 322.97\n",
      "Median của Tổng đơn: 254.02\n",
      "Mean của Rating: 7.25\n",
      "Median của Rating: 7.00\n"
     ]
    }
   ],
   "source": [
    "# BAI TAP 3\n",
    "\n",
    "import csv\n",
    "from statistics import median\n",
    "\n",
    "sale_data_vn = '/Users/myvo/Downloads/DA12_Tuan3_CyberSoft/sale_data_vn.csv'\n",
    "\n",
    "with open(sale_data_vn, 'r', encoding='utf-8') as f:\n",
    "    data_reader = csv.reader(f)\n",
    "\n",
    "    # Neu co header\n",
    "    next(data_reader)\n",
    "\n",
    "    # First iteration to get data\n",
    "    data_list = list(data_reader)\n",
    "    for row in data_list:\n",
    "        print(row)\n",
    "        break\n",
    "\n",
    "# 3.1 Tan so va tan suat k.hang mua o HCM HN DN\n",
    "    count_HN = 0\n",
    "    count_SG = 0\n",
    "    count_DN = 0\n",
    "\n",
    "    for row in data_list:\n",
    "        tp = row[2]\n",
    "        if tp == 'Hà Nội':\n",
    "            count_HN += 1\n",
    "        elif tp == 'TP HCM':\n",
    "            count_SG += 1\n",
    "        elif tp == 'Đà Nẵng':\n",
    "            count_DN += 1\n",
    "\n",
    "    sum_total = count_HN + count_SG + count_DN\n",
    "    tan_suat = sum_total // len(tp)\n",
    "\n",
    "    print(\"Tần số khách hàng mua ở Tp HCM, Hà Nội, Đà Nẵng:\", sum_total)\n",
    "    print(\"Tần suất khách hàng mua ở Tp HCM, Hà Nội, Đà Nẵng:\", tan_suat)\n",
    "\n",
    "# 3.2 Tần số & Tần suất khách hàng Nam/Nữ\n",
    "    count_Nam = 0\n",
    "    count_Nu = 0\n",
    "\n",
    "    for row in data_list:\n",
    "        gt = row[4]\n",
    "        if gt == 'Nam':\n",
    "            count_Nam += 1\n",
    "        elif gt == 'Nữ':\n",
    "            count_Nu += 1\n",
    "\n",
    "    sum_total_gt = count_Nam + count_Nu\n",
    "    tan_suat_gt = sum_total_gt // len(gt)\n",
    "\n",
    "    print(\"Tần số khách hàng Nam/Nữ:\", sum_total_gt)\n",
    "    print(\"Tần suất khách hàng Nam/Nữ:\", tan_suat_gt)\n",
    "    \n",
    "# 3.3 Mean, median của Tổng đơn \n",
    "total = [float(row[10]) for row in data_list]\n",
    "mean = sum(total) / len(total)\n",
    "print(\"Mean của Tổng đơn:\", \"%.2f\"% mean)\n",
    "\n",
    "sorted_total = sorted(total)\n",
    "\n",
    "median = sorted_total[len(total) // 2]\n",
    "print(\"Median của Tổng đơn:\", \"%.2f\"% median)\n",
    "\n",
    "# 3.3 Mean, median của Rating\n",
    "rating = [float(row[14]) for row in data_list]\n",
    "mean_rating = sum(rating) / len(rating)\n",
    "print(\"Mean của Rating:\", \"%.2f\"% mean_rating)\n",
    "\n",
    "sorted_rating = sorted(rating)\n",
    "\n",
    "median_rating = sorted_rating[len(rating) // 2]\n",
    "print(\"Median của Rating:\", \"%.2f\"% median_rating)\n"
   ]
  }
 ],
 "metadata": {
  "kernelspec": {
   "display_name": "Python 3 (ipykernel)",
   "language": "python",
   "name": "python3"
  },
  "language_info": {
   "codemirror_mode": {
    "name": "ipython",
    "version": 3
   },
   "file_extension": ".py",
   "mimetype": "text/x-python",
   "name": "python",
   "nbconvert_exporter": "python",
   "pygments_lexer": "ipython3",
   "version": "3.11.5"
  }
 },
 "nbformat": 4,
 "nbformat_minor": 5
}
